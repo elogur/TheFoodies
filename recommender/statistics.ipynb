{
 "cells": [
  {
   "cell_type": "code",
   "execution_count": 3,
   "id": "c5a1b57c",
   "metadata": {},
   "outputs": [],
   "source": [
    "from graph_manager import GraphManager, RecipeRecommender\n",
    "import statistics"
   ]
  },
  {
   "cell_type": "code",
   "execution_count": 4,
   "id": "ef4a1abb",
   "metadata": {},
   "outputs": [
    {
     "name": "stdout",
     "output_type": "stream",
     "text": [
      "\n",
      "📊 Graph Statistics:\n",
      "   - Recipes (nodes): 4999\n",
      "   - Connections (edges): 382058\n",
      "   - Avg shared ingredients: 3.5\n",
      "   - Max shared ingredients: 19\n",
      "   - Unique ingredients: 4195\n"
     ]
    }
   ],
   "source": [
    "graph_manager = GraphManager(nrows=5000, debug=False)\n",
    "recipe_recommender = RecipeRecommender(graph_manager)\n",
    "\n",
    "# Just some statistics\n",
    "if graph_manager.graph.number_of_edges() > 0:\n",
    "    weights = [d['weight'] for u, v, d in graph_manager.graph.edges(data=True)]\n",
    "    print(f\"\\n📊 Graph Statistics:\")\n",
    "    print(f\"   - Recipes (nodes): {graph_manager.graph.number_of_nodes()}\")\n",
    "    print(f\"   - Connections (edges): {graph_manager.graph.number_of_edges()}\")\n",
    "    print(f\"   - Avg shared ingredients: {statistics.mean(weights):.1f}\")\n",
    "    print(f\"   - Max shared ingredients: {max(weights)}\")\n",
    "    print(f\"   - Unique ingredients: {len(graph_manager.ingredient_to_recipes)}\")\n"
   ]
  },
  {
   "cell_type": "code",
   "execution_count": 5,
   "id": "423c6b23",
   "metadata": {},
   "outputs": [
    {
     "name": "stdout",
     "output_type": "stream",
     "text": [
      "🍽️ Found recipe: almond cow\n",
      "\n",
      "Ingredients (4):\n",
      "amaretto, ice, kahlua, milk\n",
      "\n",
      "Top 3 Similar Recipes:\n",
      "--------------------------------------------------------------------------------\n",
      " 1. amaretto iced coffee\n",
      "    Number of shared ingredients: 3\n",
      "    Shared ingredients: amaretto, ice, milk\n",
      "    Rating: 5.0/5.0\n",
      "    Total ingredients: 8\n",
      "\n",
      " 2. almond latt\n",
      "    Number of shared ingredients: 3\n",
      "    Shared ingredients: amaretto, kahlua, milk\n",
      "    Rating: 4.0/5.0\n",
      "    Total ingredients: 4\n",
      "\n",
      " 3. adult chocolate milk\n",
      "    Number of shared ingredients: 3\n",
      "    Shared ingredients: ice, kahlua, milk\n",
      "    Rating: 5.0/5.0\n",
      "    Total ingredients: 7\n",
      "\n",
      "🍽️ Found recipe: almond cow\n",
      "\n",
      "Ingredients (4):\n",
      "amaretto, ice, kahlua, milk\n",
      "\n",
      "Top 3 Similar Recipes:\n",
      "--------------------------------------------------------------------------------\n",
      " 1. almond latt\n",
      "    Number of shared ingredients: 3\n",
      "    Shared ingredients: amaretto, kahlua, milk\n",
      "    Rating: 4.0/5.0\n",
      "    Total ingredients: 4\n",
      "\n",
      " 2. adult chocolate milk\n",
      "    Number of shared ingredients: 3\n",
      "    Shared ingredients: ice, kahlua, milk\n",
      "    Rating: 5.0/5.0\n",
      "    Total ingredients: 7\n",
      "\n",
      " 3. amaretto iced coffee\n",
      "    Number of shared ingredients: 3\n",
      "    Shared ingredients: amaretto, ice, milk\n",
      "    Rating: 5.0/5.0\n",
      "    Total ingredients: 8\n",
      "\n",
      "🍽️ Found recipe: almond cow\n",
      "\n",
      "Ingredients (4):\n",
      "amaretto, ice, kahlua, milk\n",
      "\n",
      "Top 3 Similar Recipes:\n",
      "--------------------------------------------------------------------------------\n",
      " 1. almond latt\n",
      "    Number of shared ingredients: 3\n",
      "    Shared ingredients: amaretto, kahlua, milk\n",
      "    Rating: 4.0/5.0\n",
      "    Total ingredients: 4\n",
      "\n",
      " 2. adult chocolate milk\n",
      "    Number of shared ingredients: 3\n",
      "    Shared ingredients: ice, kahlua, milk\n",
      "    Rating: 5.0/5.0\n",
      "    Total ingredients: 7\n",
      "\n",
      " 3. amaretto iced coffee\n",
      "    Number of shared ingredients: 3\n",
      "    Shared ingredients: amaretto, ice, milk\n",
      "    Rating: 5.0/5.0\n",
      "    Total ingredients: 8\n",
      "\n",
      "❓ Recipe 'almond' not found exactly. Did you mean:\n",
      "1. Almond Tea\n",
      "2. Almond Joy\n",
      "3. Almond Dip\n",
      "4. Almond Cow\n",
      "5. Almond Tofu\n",
      "\n",
      "Try searching with one of these suggestions.\n"
     ]
    }
   ],
   "source": [
    "recipe_recommender.set_config_values(10, 2)\n",
    "\n",
    "# example results\n",
    "recipe_recommender.command_line_interaction(\"almond cow\", 0)\n",
    "recipe_recommender.command_line_interaction(\"almond cow\", 1)\n",
    "recipe_recommender.command_line_interaction(\"almond cow\", 2)\n",
    "\n",
    "recipe_recommender.command_line_interaction(\"almond\")\n",
    "\n",
    "# # interaction\n",
    "# recipe_recommender.command_line_interaction()\n",
    "\n",
    "# # recipe overview for inspiration\n",
    "# for recipe in graph_manager.graph:\n",
    "#     print(graph_manager.id_to_name.get(recipe))"
   ]
  },
  {
   "cell_type": "code",
   "execution_count": null,
   "id": "49ce5fac",
   "metadata": {},
   "outputs": [],
   "source": []
  }
 ],
 "metadata": {
  "kernelspec": {
   "display_name": "ubiquity-student-wDpXH6Hs",
   "language": "python",
   "name": "python3"
  },
  "language_info": {
   "codemirror_mode": {
    "name": "ipython",
    "version": 3
   },
   "file_extension": ".py",
   "mimetype": "text/x-python",
   "name": "python",
   "nbconvert_exporter": "python",
   "pygments_lexer": "ipython3",
   "version": "3.12.3"
  }
 },
 "nbformat": 4,
 "nbformat_minor": 5
}
